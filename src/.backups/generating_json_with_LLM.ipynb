{
 "cells": [
  {
   "cell_type": "code",
   "execution_count": 1,
   "metadata": {},
   "outputs": [],
   "source": [
    "import os\n",
    "import getpass\n",
    "from google import genai\n",
    "from google.genai import types\n",
    "import json\n",
    "import re\n",
    "from datetime import datetime"
   ]
  },
  {
   "cell_type": "code",
   "execution_count": 2,
   "metadata": {},
   "outputs": [],
   "source": [
    "if \"GOOGLE_API_KEY\" not in os.environ:\n",
    "    os.environ[\"GOOGLE_API_KEY\"] = getpass.getpass(\"Enter your Google AI API key: \")\n"
   ]
  },
  {
   "cell_type": "code",
   "execution_count": null,
   "metadata": {},
   "outputs": [],
   "source": [
    "client = genai.Client(api_key=os.environ[\"GOOGLE_API_KEY\"])\n",
    "response = client.models.generate_content(\n",
    "    model=\"gemini-2.0-flash\", contents=\"Explain how AI works\"\n",
    ")\n",
    "print(response.text)"
   ]
  },
  {
   "cell_type": "code",
   "execution_count": null,
   "metadata": {},
   "outputs": [],
   "source": [
    "def process_llm_response(response_text):\n",
    "    \"\"\"\n",
    "    Processes an LLM response, extracts the question-answer pair, \n",
    "    saves each answer as a separate JSON file, and logs all Q&A pairs in qa_log.json.\n",
    "    \"\"\"\n",
    "    # Clean up the response text\n",
    "    data = response_text.replace(\"```json\", \"\").replace(\"```\", \"\").strip()\n",
    "\n",
    "    # Convert string to JSON object\n",
    "    try:\n",
    "        json_data = json.loads(data)\n",
    "    except json.JSONDecodeError:\n",
    "        print(\"Error: Invalid JSON format.\")\n",
    "        return\n",
    "\n",
    "    # Ensure the LLM_answers directory exists\n",
    "    llm_answers_dir = \"LLM_answers\"\n",
    "    os.makedirs(llm_answers_dir, exist_ok=True)\n",
    "\n",
    "    # Generate a unique filename with timestamp\n",
    "    timestamp = datetime.now().strftime(\"%Y%m%d_%H%M%S\")\n",
    "    json_filename = f\"{llm_answers_dir}/answer_{timestamp}.json\"\n",
    "\n",
    "    # Save individual answer JSON\n",
    "    with open(json_filename, \"w\", encoding=\"utf-8\") as json_file:\n",
    "        json.dump(json_data, json_file, indent=4)\n",
    "\n",
    "    # Log all Q&A pairs in a central file\n",
    "    log_filename = \"qa_log.json\"\n",
    "\n",
    "    # Load existing log file or create a new list\n",
    "    if os.path.exists(log_filename):\n",
    "        with open(log_filename, \"r\", encoding=\"utf-8\") as log_file:\n",
    "            try:\n",
    "                qa_log = json.load(log_file)\n",
    "            except json.JSONDecodeError:\n",
    "                qa_log = []\n",
    "    else:\n",
    "        qa_log = []\n",
    "\n",
    "    # Append new question-answer pair to the log\n",
    "    qa_log.append(json_data)\n",
    "\n",
    "    # Save updated log file\n",
    "    with open(log_filename, \"w\", encoding=\"utf-8\") as log_file:\n",
    "        json.dump(qa_log, log_file, indent=4)\n",
    "\n",
    "    print(f\"Saved answer as {json_filename} and updated {log_filename}.\")\n"
   ]
  },
  {
   "cell_type": "code",
   "execution_count": null,
   "metadata": {},
   "outputs": [],
   "source": [
    "\n",
    "folder_path = r\"divider\\ddls\"\n",
    "list_of_text = []\n",
    "sql_files = sorted([f for f in os.listdir(folder_path) if f.endswith(\".sql\")])\n",
    "#comment_files = sorted([f for f in os.listdir(folder_path) if f.endswith(\".comment\")])\n",
    "\n",
    "for filename in sql_files:\n",
    "    sql_file_path = os.path.join(folder_path, filename)\n",
    "\n",
    "    print(\"sql path::::\", sql_file_path)\n",
    "    with open(sql_file_path, \"r\") as file:\n",
    "        sql_content = file.read()\n",
    "        \n",
    "        print(f\"SQL script {filename} executed successfully.\")\n",
    "\n",
    "    comment_file_path = sql_file_path.replace(\".sql\", \".comment\")\n",
    "    print(comment_file_path)\n",
    "    try:\n",
    "        with open(comment_file_path, \"r\") as file:\n",
    "            comment_content = file.read()\n",
    "\n",
    "            print(f\"Comment script {filename} executed successfully.\")\n",
    "            \n",
    "    except FileNotFoundError:\n",
    "        print(f\"Error: File not found at {comment_file_path}\")\n",
    "\n",
    "    list_of_text.append((sql_content, comment_content))"
   ]
  },
  {
   "cell_type": "code",
   "execution_count": 49,
   "metadata": {},
   "outputs": [],
   "source": [
    "# Define schema\n",
    "allowed_nodes = [\"ColumnName\", \n",
    "                 \"TableName\",\n",
    "                 \"Data Type\",\n",
    "                 \"SchemaName\",\n",
    "                 \"Comment\",\n",
    "                 \"Summary\"\n",
    "                 ]\n",
    "\n",
    "allowed_relationships = [\n",
    "(\"ColumnName\", \"PART_OF\", \"TableName\"), \n",
    "(\"ColumnName\", \"TYPE_OF\", \"Data Type\"), \n",
    "(\"TableName\", \"PART_OF\", \"SchemaName\"), \n",
    "(\"Comment\", \"DESCRIBES\", \"ColumnName\"), \n",
    "(\"Summary\", \"DESCRIBES\", \"TableName\")\n",
    "]"
   ]
  },
  {
   "cell_type": "code",
   "execution_count": 50,
   "metadata": {},
   "outputs": [],
   "source": [
    "client = genai.Client(api_key=os.environ[\"GOOGLE_API_KEY\"])"
   ]
  },
  {
   "cell_type": "code",
   "execution_count": 52,
   "metadata": {},
   "outputs": [
    {
     "name": "stdout",
     "output_type": "stream",
     "text": [
      "Saved answer as LLM_answers/answer_20250305_022711.json and updated qa_log.json.\n",
      "Saved answer as LLM_answers/answer_20250305_022715.json and updated qa_log.json.\n",
      "Saved answer as LLM_answers/answer_20250305_022724.json and updated qa_log.json.\n",
      "Saved answer as LLM_answers/answer_20250305_022736.json and updated qa_log.json.\n",
      "Saved answer as LLM_answers/answer_20250305_022750.json and updated qa_log.json.\n",
      "Saved answer as LLM_answers/answer_20250305_022811.json and updated qa_log.json.\n",
      "Saved answer as LLM_answers/answer_20250305_022828.json and updated qa_log.json.\n",
      "Saved answer as LLM_answers/answer_20250305_022837.json and updated qa_log.json.\n",
      "Saved answer as LLM_answers/answer_20250305_022849.json and updated qa_log.json.\n",
      "Saved answer as LLM_answers/answer_20250305_022901.json and updated qa_log.json.\n",
      "Saved answer as LLM_answers/answer_20250305_022906.json and updated qa_log.json.\n",
      "Saved answer as LLM_answers/answer_20250305_022916.json and updated qa_log.json.\n",
      "Saved answer as LLM_answers/answer_20250305_022929.json and updated qa_log.json.\n",
      "Saved answer as LLM_answers/answer_20250305_022936.json and updated qa_log.json.\n",
      "Saved answer as LLM_answers/answer_20250305_022947.json and updated qa_log.json.\n",
      "Saved answer as LLM_answers/answer_20250305_023004.json and updated qa_log.json.\n",
      "Saved answer as LLM_answers/answer_20250305_023007.json and updated qa_log.json.\n",
      "Saved answer as LLM_answers/answer_20250305_023011.json and updated qa_log.json.\n",
      "Saved answer as LLM_answers/answer_20250305_023015.json and updated qa_log.json.\n",
      "Saved answer as LLM_answers/answer_20250305_023019.json and updated qa_log.json.\n",
      "Saved answer as LLM_answers/answer_20250305_023024.json and updated qa_log.json.\n",
      "Saved answer as LLM_answers/answer_20250305_023040.json and updated qa_log.json.\n"
     ]
    }
   ],
   "source": [
    "sys_instruct=f\"\"\"You are a system and you need to extract entities and knowledge from DDL scripts\n",
    "\n",
    "### Allowed Nodes ###\n",
    "\n",
    "{allowed_nodes}\n",
    "\n",
    "### Allowed Relationships ###\n",
    "\n",
    "{allowed_relationships}\n",
    "\n",
    "### For \"Summary\" infere what kind of information would be stored there ###\n",
    "\n",
    "\"\"\"\n",
    "\n",
    "for pair in list_of_text:\n",
    "    text = [pair[0], pair[1]]\n",
    "\n",
    "    response = client.models.generate_content(\n",
    "        model=\"gemini-2.0-flash\",\n",
    "        config=types.GenerateContentConfig(\n",
    "        # max_output_tokens=500,\n",
    "            temperature=0.1,\n",
    "            system_instruction=sys_instruct),\n",
    "        contents=text\n",
    "    )\n",
    "\n",
    "    process_llm_response(response.text)"
   ]
  },
  {
   "cell_type": "code",
   "execution_count": 47,
   "metadata": {},
   "outputs": [],
   "source": [
    "#print(response.text)"
   ]
  }
 ],
 "metadata": {
  "kernelspec": {
   "display_name": ".venv",
   "language": "python",
   "name": "python3"
  },
  "language_info": {
   "codemirror_mode": {
    "name": "ipython",
    "version": 3
   },
   "file_extension": ".py",
   "mimetype": "text/x-python",
   "name": "python",
   "nbconvert_exporter": "python",
   "pygments_lexer": "ipython3",
   "version": "3.11.5"
  }
 },
 "nbformat": 4,
 "nbformat_minor": 2
}
