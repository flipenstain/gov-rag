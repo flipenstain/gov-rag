{
 "cells": [
  {
   "cell_type": "code",
   "execution_count": 2,
   "metadata": {},
   "outputs": [
    {
     "name": "stdout",
     "output_type": "stream",
     "text": [
      "SQL script 1_create_db.sql executed successfully.\n",
      "SQL script wh_db.BatchDate.sql executed successfully.\n",
      "SQL script wh_db.DimAccount.sql executed successfully.\n",
      "SQL script wh_db.DimBroker.sql executed successfully.\n",
      "SQL script wh_db.DimCompany.sql executed successfully.\n",
      "SQL script wh_db.DimCustomer.sql executed successfully.\n",
      "SQL script wh_db.DimDate.sql executed successfully.\n",
      "SQL script wh_db.DimSecurity.sql executed successfully.\n",
      "SQL script wh_db.DimTime.sql executed successfully.\n",
      "SQL script wh_db.DimTrade.sql executed successfully.\n",
      "SQL script wh_db.FactCashBalances.sql executed successfully.\n",
      "SQL script wh_db.FactHoldings.sql executed successfully.\n",
      "SQL script wh_db.FactMarketHistory.sql executed successfully.\n",
      "SQL script wh_db.FactWatches.sql executed successfully.\n",
      "SQL script wh_db.Financial.sql executed successfully.\n",
      "SQL script wh_db.Prospect.sql executed successfully.\n",
      "SQL script wh_db.StatusType.sql executed successfully.\n",
      "SQL script wh_db.TaxRate.sql executed successfully.\n",
      "SQL script wh_db.TradeType.sql executed successfully.\n",
      "SQL script wh_db.industry.sql executed successfully.\n",
      "SQL script wh_db_stage.FinWire.sql executed successfully.\n",
      "SQL script wh_db_stage.ProspectIncremental.sql executed successfully.\n",
      "Comment script wh_db.BatchDate.comment executed successfully.\n",
      "Comment script wh_db.DimAccount.comment executed successfully.\n",
      "Comment script wh_db.DimBroker.comment executed successfully.\n",
      "Comment script wh_db.DimCompany.comment executed successfully.\n",
      "Comment script wh_db.DimCustomer.comment executed successfully.\n",
      "Comment script wh_db.DimDate.comment executed successfully.\n",
      "Comment script wh_db.DimSecurity.comment executed successfully.\n",
      "Comment script wh_db.DimTime.comment executed successfully.\n",
      "Comment script wh_db.DimTrade.comment executed successfully.\n",
      "Comment script wh_db.FactCashBalances.comment executed successfully.\n",
      "Comment script wh_db.FactHoldings.comment executed successfully.\n",
      "Comment script wh_db.FactMarketHistory.comment executed successfully.\n",
      "Comment script wh_db.FactWatches.comment executed successfully.\n",
      "Comment script wh_db.Financial.comment executed successfully.\n",
      "Comment script wh_db.Prospect.comment executed successfully.\n",
      "Comment script wh_db.StatusType.comment executed successfully.\n",
      "Comment script wh_db.TaxRate.comment executed successfully.\n",
      "Comment script wh_db.TradeType.comment executed successfully.\n",
      "Comment script wh_db.industry.comment executed successfully.\n",
      "Comment script wh_db_stage.FinWire.comment executed successfully.\n",
      "Comment script wh_db_stage.ProspectIncremental.comment executed successfully.\n"
     ]
    }
   ],
   "source": [
    "import duckdb\n",
    "import os\n",
    "import re\n",
    "\n",
    "def execute_sql_and_comments(folder_path, con):\n",
    "    \"\"\"\n",
    "    Executes all .sql and .comment files in a folder using DuckDB.\n",
    "\n",
    "    Args:\n",
    "        folder_path (str): The path to the folder containing .sql and .comment files.\n",
    "        con (duckdb.DuckDBPyConnection): The DuckDB connection object.\n",
    "    \"\"\"\n",
    "    if not os.path.isdir(folder_path):\n",
    "        print(f\"Error: {folder_path} is not a directory.\")\n",
    "        return\n",
    "\n",
    "    sql_files = sorted([f for f in os.listdir(folder_path) if f.endswith(\".sql\")])\n",
    "    comment_files = sorted([f for f in os.listdir(folder_path) if f.endswith(\".comment\")])\n",
    "\n",
    "    for filename in sql_files:\n",
    "        sql_file_path = os.path.join(folder_path, filename)\n",
    "        try:\n",
    "            with open(sql_file_path, \"r\") as file:\n",
    "                sql_content = file.read()\n",
    "                con.sql(sql_content)\n",
    "                print(f\"SQL script {filename} executed successfully.\")\n",
    "        except FileNotFoundError:\n",
    "            print(f\"Error: File not found at {sql_file_path}\")\n",
    "        except duckdb.Error as e:\n",
    "            print(f\"DuckDB Error in {filename}: {e}\")\n",
    "        except Exception as generic_e:\n",
    "            print(f\"An unexpected error occurred in {filename}: {generic_e}\")\n",
    "\n",
    "    for filename in comment_files:\n",
    "        comment_file_path = os.path.join(folder_path, filename)\n",
    "        try:\n",
    "            with open(comment_file_path, \"r\") as file:\n",
    "                comment_content = file.read()\n",
    "                con.sql(comment_content)\n",
    "                print(f\"Comment script {filename} executed successfully.\")\n",
    "        except FileNotFoundError:\n",
    "            print(f\"Error: File not found at {comment_file_path}\")\n",
    "        except duckdb.Error as e:\n",
    "            print(f\"DuckDB Error in {filename}: {e}\")\n",
    "        except Exception as generic_e:\n",
    "            print(f\"An unexpected error occurred in {filename}: {generic_e}\")\n",
    "\n",
    "# Example Usage:\n",
    "folder_path = r\"src\\divider\\ddls\"  # Replace with your folder path\n",
    "\n",
    "db_path = 'initial_db.duckdb'\n",
    "\n",
    "con = duckdb.connect(database=db_path)\n",
    "\n",
    "execute_sql_and_comments(folder_path, con)\n",
    "\n",
    "con.commit()\n",
    "\n",
    "con.close()"
   ]
  },
  {
   "cell_type": "code",
   "execution_count": 4,
   "metadata": {},
   "outputs": [],
   "source": [
    "con = duckdb.connect()\n",
    "\n",
    "# Option 1: Read a CSV file directly into a DuckDB table\n",
    "csv_file_path = 'src\\data\\Batch1\\CashTransaction_audit.csv'  # Replace with your CSV file path\n",
    "con.execute(f\"CREATE TABLE my_table AS SELECT * FROM read_csv_auto('{csv_file_path}')\")\n",
    "con.close()"
   ]
  },
  {
   "cell_type": "code",
   "execution_count": null,
   "metadata": {},
   "outputs": [
    {
     "ename": "ModuleNotFoundError",
     "evalue": "No module named 'sql'",
     "output_type": "error",
     "traceback": [
      "\u001b[1;31m---------------------------------------------------------------------------\u001b[0m",
      "\u001b[1;31mModuleNotFoundError\u001b[0m                       Traceback (most recent call last)",
      "Cell \u001b[1;32mIn[5], line 1\u001b[0m\n\u001b[1;32m----> 1\u001b[0m \u001b[43mget_ipython\u001b[49m\u001b[43m(\u001b[49m\u001b[43m)\u001b[49m\u001b[38;5;241;43m.\u001b[39;49m\u001b[43mrun_line_magic\u001b[49m\u001b[43m(\u001b[49m\u001b[38;5;124;43m'\u001b[39;49m\u001b[38;5;124;43mload_ext\u001b[39;49m\u001b[38;5;124;43m'\u001b[39;49m\u001b[43m,\u001b[49m\u001b[43m \u001b[49m\u001b[38;5;124;43m'\u001b[39;49m\u001b[38;5;124;43msql\u001b[39;49m\u001b[38;5;124;43m'\u001b[39;49m\u001b[43m)\u001b[49m\n",
      "File \u001b[1;32mc:\\lopu-kg-test\\project\\.venv\\Lib\\site-packages\\IPython\\core\\interactiveshell.py:2482\u001b[0m, in \u001b[0;36mInteractiveShell.run_line_magic\u001b[1;34m(self, magic_name, line, _stack_depth)\u001b[0m\n\u001b[0;32m   2480\u001b[0m     kwargs[\u001b[38;5;124m'\u001b[39m\u001b[38;5;124mlocal_ns\u001b[39m\u001b[38;5;124m'\u001b[39m] \u001b[38;5;241m=\u001b[39m \u001b[38;5;28mself\u001b[39m\u001b[38;5;241m.\u001b[39mget_local_scope(stack_depth)\n\u001b[0;32m   2481\u001b[0m \u001b[38;5;28;01mwith\u001b[39;00m \u001b[38;5;28mself\u001b[39m\u001b[38;5;241m.\u001b[39mbuiltin_trap:\n\u001b[1;32m-> 2482\u001b[0m     result \u001b[38;5;241m=\u001b[39m \u001b[43mfn\u001b[49m\u001b[43m(\u001b[49m\u001b[38;5;241;43m*\u001b[39;49m\u001b[43margs\u001b[49m\u001b[43m,\u001b[49m\u001b[43m \u001b[49m\u001b[38;5;241;43m*\u001b[39;49m\u001b[38;5;241;43m*\u001b[39;49m\u001b[43mkwargs\u001b[49m\u001b[43m)\u001b[49m\n\u001b[0;32m   2484\u001b[0m \u001b[38;5;66;03m# The code below prevents the output from being displayed\u001b[39;00m\n\u001b[0;32m   2485\u001b[0m \u001b[38;5;66;03m# when using magics with decorator @output_can_be_silenced\u001b[39;00m\n\u001b[0;32m   2486\u001b[0m \u001b[38;5;66;03m# when the last Python token in the expression is a ';'.\u001b[39;00m\n\u001b[0;32m   2487\u001b[0m \u001b[38;5;28;01mif\u001b[39;00m \u001b[38;5;28mgetattr\u001b[39m(fn, magic\u001b[38;5;241m.\u001b[39mMAGIC_OUTPUT_CAN_BE_SILENCED, \u001b[38;5;28;01mFalse\u001b[39;00m):\n",
      "File \u001b[1;32mc:\\lopu-kg-test\\project\\.venv\\Lib\\site-packages\\IPython\\core\\magics\\extension.py:33\u001b[0m, in \u001b[0;36mExtensionMagics.load_ext\u001b[1;34m(self, module_str)\u001b[0m\n\u001b[0;32m     31\u001b[0m \u001b[38;5;28;01mif\u001b[39;00m \u001b[38;5;129;01mnot\u001b[39;00m module_str:\n\u001b[0;32m     32\u001b[0m     \u001b[38;5;28;01mraise\u001b[39;00m UsageError(\u001b[38;5;124m'\u001b[39m\u001b[38;5;124mMissing module name.\u001b[39m\u001b[38;5;124m'\u001b[39m)\n\u001b[1;32m---> 33\u001b[0m res \u001b[38;5;241m=\u001b[39m \u001b[38;5;28;43mself\u001b[39;49m\u001b[38;5;241;43m.\u001b[39;49m\u001b[43mshell\u001b[49m\u001b[38;5;241;43m.\u001b[39;49m\u001b[43mextension_manager\u001b[49m\u001b[38;5;241;43m.\u001b[39;49m\u001b[43mload_extension\u001b[49m\u001b[43m(\u001b[49m\u001b[43mmodule_str\u001b[49m\u001b[43m)\u001b[49m\n\u001b[0;32m     35\u001b[0m \u001b[38;5;28;01mif\u001b[39;00m res \u001b[38;5;241m==\u001b[39m \u001b[38;5;124m'\u001b[39m\u001b[38;5;124malready loaded\u001b[39m\u001b[38;5;124m'\u001b[39m:\n\u001b[0;32m     36\u001b[0m     \u001b[38;5;28mprint\u001b[39m(\u001b[38;5;124m\"\u001b[39m\u001b[38;5;124mThe \u001b[39m\u001b[38;5;132;01m%s\u001b[39;00m\u001b[38;5;124m extension is already loaded. To reload it, use:\u001b[39m\u001b[38;5;124m\"\u001b[39m \u001b[38;5;241m%\u001b[39m module_str)\n",
      "File \u001b[1;32mc:\\lopu-kg-test\\project\\.venv\\Lib\\site-packages\\IPython\\core\\extensions.py:62\u001b[0m, in \u001b[0;36mExtensionManager.load_extension\u001b[1;34m(self, module_str)\u001b[0m\n\u001b[0;32m     55\u001b[0m \u001b[38;5;250m\u001b[39m\u001b[38;5;124;03m\"\"\"Load an IPython extension by its module name.\u001b[39;00m\n\u001b[0;32m     56\u001b[0m \n\u001b[0;32m     57\u001b[0m \u001b[38;5;124;03mReturns the string \"already loaded\" if the extension is already loaded,\u001b[39;00m\n\u001b[0;32m     58\u001b[0m \u001b[38;5;124;03m\"no load function\" if the module doesn't have a load_ipython_extension\u001b[39;00m\n\u001b[0;32m     59\u001b[0m \u001b[38;5;124;03mfunction, or None if it succeeded.\u001b[39;00m\n\u001b[0;32m     60\u001b[0m \u001b[38;5;124;03m\"\"\"\u001b[39;00m\n\u001b[0;32m     61\u001b[0m \u001b[38;5;28;01mtry\u001b[39;00m:\n\u001b[1;32m---> 62\u001b[0m     \u001b[38;5;28;01mreturn\u001b[39;00m \u001b[38;5;28;43mself\u001b[39;49m\u001b[38;5;241;43m.\u001b[39;49m\u001b[43m_load_extension\u001b[49m\u001b[43m(\u001b[49m\u001b[43mmodule_str\u001b[49m\u001b[43m)\u001b[49m\n\u001b[0;32m     63\u001b[0m \u001b[38;5;28;01mexcept\u001b[39;00m \u001b[38;5;167;01mModuleNotFoundError\u001b[39;00m:\n\u001b[0;32m     64\u001b[0m     \u001b[38;5;28;01mif\u001b[39;00m module_str \u001b[38;5;129;01min\u001b[39;00m BUILTINS_EXTS:\n",
      "File \u001b[1;32mc:\\lopu-kg-test\\project\\.venv\\Lib\\site-packages\\IPython\\core\\extensions.py:77\u001b[0m, in \u001b[0;36mExtensionManager._load_extension\u001b[1;34m(self, module_str)\u001b[0m\n\u001b[0;32m     75\u001b[0m \u001b[38;5;28;01mwith\u001b[39;00m \u001b[38;5;28mself\u001b[39m\u001b[38;5;241m.\u001b[39mshell\u001b[38;5;241m.\u001b[39mbuiltin_trap:\n\u001b[0;32m     76\u001b[0m     \u001b[38;5;28;01mif\u001b[39;00m module_str \u001b[38;5;129;01mnot\u001b[39;00m \u001b[38;5;129;01min\u001b[39;00m sys\u001b[38;5;241m.\u001b[39mmodules:\n\u001b[1;32m---> 77\u001b[0m         mod \u001b[38;5;241m=\u001b[39m \u001b[43mimport_module\u001b[49m\u001b[43m(\u001b[49m\u001b[43mmodule_str\u001b[49m\u001b[43m)\u001b[49m\n\u001b[0;32m     78\u001b[0m     mod \u001b[38;5;241m=\u001b[39m sys\u001b[38;5;241m.\u001b[39mmodules[module_str]\n\u001b[0;32m     79\u001b[0m     \u001b[38;5;28;01mif\u001b[39;00m \u001b[38;5;28mself\u001b[39m\u001b[38;5;241m.\u001b[39m_call_load_ipython_extension(mod):\n",
      "File \u001b[1;32m~\\AppData\\Local\\Programs\\Python\\Python311\\Lib\\importlib\\__init__.py:126\u001b[0m, in \u001b[0;36mimport_module\u001b[1;34m(name, package)\u001b[0m\n\u001b[0;32m    124\u001b[0m             \u001b[38;5;28;01mbreak\u001b[39;00m\n\u001b[0;32m    125\u001b[0m         level \u001b[38;5;241m+\u001b[39m\u001b[38;5;241m=\u001b[39m \u001b[38;5;241m1\u001b[39m\n\u001b[1;32m--> 126\u001b[0m \u001b[38;5;28;01mreturn\u001b[39;00m \u001b[43m_bootstrap\u001b[49m\u001b[38;5;241;43m.\u001b[39;49m\u001b[43m_gcd_import\u001b[49m\u001b[43m(\u001b[49m\u001b[43mname\u001b[49m\u001b[43m[\u001b[49m\u001b[43mlevel\u001b[49m\u001b[43m:\u001b[49m\u001b[43m]\u001b[49m\u001b[43m,\u001b[49m\u001b[43m \u001b[49m\u001b[43mpackage\u001b[49m\u001b[43m,\u001b[49m\u001b[43m \u001b[49m\u001b[43mlevel\u001b[49m\u001b[43m)\u001b[49m\n",
      "File \u001b[1;32m<frozen importlib._bootstrap>:1204\u001b[0m, in \u001b[0;36m_gcd_import\u001b[1;34m(name, package, level)\u001b[0m\n",
      "File \u001b[1;32m<frozen importlib._bootstrap>:1176\u001b[0m, in \u001b[0;36m_find_and_load\u001b[1;34m(name, import_)\u001b[0m\n",
      "File \u001b[1;32m<frozen importlib._bootstrap>:1140\u001b[0m, in \u001b[0;36m_find_and_load_unlocked\u001b[1;34m(name, import_)\u001b[0m\n",
      "\u001b[1;31mModuleNotFoundError\u001b[0m: No module named 'sql'"
     ]
    }
   ],
   "source": [
    "%load_ext sql\n",
    "%config SqlMagic.autopandas = True\n",
    "%config SqlMagic.feedback = False\n",
    "%config SqlMagic.displaycon = False"
   ]
  },
  {
   "cell_type": "code",
   "execution_count": null,
   "metadata": {},
   "outputs": [],
   "source": []
  }
 ],
 "metadata": {
  "kernelspec": {
   "display_name": ".venv",
   "language": "python",
   "name": "python3"
  },
  "language_info": {
   "codemirror_mode": {
    "name": "ipython",
    "version": 3
   },
   "file_extension": ".py",
   "mimetype": "text/x-python",
   "name": "python",
   "nbconvert_exporter": "python",
   "pygments_lexer": "ipython3",
   "version": "3.11.5"
  }
 },
 "nbformat": 4,
 "nbformat_minor": 2
}
